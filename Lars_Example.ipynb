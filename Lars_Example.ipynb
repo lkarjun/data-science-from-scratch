{
  "nbformat": 4,
  "nbformat_minor": 0,
  "metadata": {
    "colab": {
      "name": "Lars-Example.ipynb",
      "provenance": [],
      "authorship_tag": "ABX9TyP81/AH4sO7lu2eLaSP1+Pb",
      "include_colab_link": true
    },
    "kernelspec": {
      "name": "python3",
      "display_name": "Python 3"
    },
    "language_info": {
      "name": "python"
    }
  },
  "cells": [
    {
      "cell_type": "markdown",
      "metadata": {
        "id": "view-in-github",
        "colab_type": "text"
      },
      "source": [
        "<a href=\"https://colab.research.google.com/github/lkarjun/Data-Science-from-Scratch/blob/master/Lars_Example.ipynb\" target=\"_parent\"><img src=\"https://colab.research.google.com/assets/colab-badge.svg\" alt=\"Open In Colab\"/></a>"
      ]
    },
    {
      "cell_type": "markdown",
      "metadata": {
        "id": "K0abZitvDfc9"
      },
      "source": [
        "# Lars (Least Angle Regression)\n",
        "LAR is a type of forward step-wise regression\n",
        "\n",
        "https://projecteuclid.org/journals/annals-of-statistics/volume-32/issue-2/Least-angle-regression/10.1214/009053604000000067.full\n",
        "\n",
        "My_notes\n",
        "> https://github.com/lkarjun/course-notes/blob/main/Machine%20-Learning/LassoRegression.md#lar-least-angle-regression"
      ]
    },
    {
      "cell_type": "code",
      "metadata": {
        "id": "KI3H4ZooDbd_"
      },
      "source": [
        "from sklearn.linear_model import Lars\n",
        "from sklearn.model_selection import train_test_split\n",
        "from sklearn.preprocessing import StandardScaler\n",
        "import pandas as pd"
      ],
      "execution_count": 5,
      "outputs": []
    },
    {
      "cell_type": "code",
      "metadata": {
        "id": "fG8NOZFUD8mW"
      },
      "source": [
        "def lars_reg(x_train, y_train, n_nonzero_coefs=4):\n",
        "  model = Lars(n_nonzero_coefs=n_nonzero_coefs)\n",
        "  model.fit(x_train, y_train)\n",
        "  return model"
      ],
      "execution_count": 2,
      "outputs": []
    },
    {
      "cell_type": "code",
      "metadata": {
        "colab": {
          "base_uri": "https://localhost:8080/",
          "height": 164
        },
        "id": "h2guBOA6ELO6",
        "outputId": "8dc81d87-a311-415a-b0b9-06b7a96e8145"
      },
      "source": [
        "df = pd.read_csv(\"/content/auto-mpg-processed.csv\")\n",
        "df.head(4)"
      ],
      "execution_count": 9,
      "outputs": [
        {
          "output_type": "execute_result",
          "data": {
            "text/html": [
              "<div>\n",
              "<style scoped>\n",
              "    .dataframe tbody tr th:only-of-type {\n",
              "        vertical-align: middle;\n",
              "    }\n",
              "\n",
              "    .dataframe tbody tr th {\n",
              "        vertical-align: top;\n",
              "    }\n",
              "\n",
              "    .dataframe thead th {\n",
              "        text-align: right;\n",
              "    }\n",
              "</style>\n",
              "<table border=\"1\" class=\"dataframe\">\n",
              "  <thead>\n",
              "    <tr style=\"text-align: right;\">\n",
              "      <th></th>\n",
              "      <th>mpg</th>\n",
              "      <th>cylinders</th>\n",
              "      <th>displacement</th>\n",
              "      <th>horsepower</th>\n",
              "      <th>weight</th>\n",
              "      <th>acceleration</th>\n",
              "      <th>age</th>\n",
              "    </tr>\n",
              "  </thead>\n",
              "  <tbody>\n",
              "    <tr>\n",
              "      <th>0</th>\n",
              "      <td>18.0</td>\n",
              "      <td>8</td>\n",
              "      <td>307.0</td>\n",
              "      <td>130</td>\n",
              "      <td>3504</td>\n",
              "      <td>12.0</td>\n",
              "      <td>49</td>\n",
              "    </tr>\n",
              "    <tr>\n",
              "      <th>1</th>\n",
              "      <td>15.0</td>\n",
              "      <td>8</td>\n",
              "      <td>350.0</td>\n",
              "      <td>165</td>\n",
              "      <td>3693</td>\n",
              "      <td>11.5</td>\n",
              "      <td>49</td>\n",
              "    </tr>\n",
              "    <tr>\n",
              "      <th>2</th>\n",
              "      <td>18.0</td>\n",
              "      <td>8</td>\n",
              "      <td>318.0</td>\n",
              "      <td>150</td>\n",
              "      <td>3436</td>\n",
              "      <td>11.0</td>\n",
              "      <td>49</td>\n",
              "    </tr>\n",
              "    <tr>\n",
              "      <th>3</th>\n",
              "      <td>16.0</td>\n",
              "      <td>8</td>\n",
              "      <td>304.0</td>\n",
              "      <td>150</td>\n",
              "      <td>3433</td>\n",
              "      <td>12.0</td>\n",
              "      <td>49</td>\n",
              "    </tr>\n",
              "  </tbody>\n",
              "</table>\n",
              "</div>"
            ],
            "text/plain": [
              "    mpg  cylinders  displacement  horsepower  weight  acceleration  age\n",
              "0  18.0          8         307.0         130    3504          12.0   49\n",
              "1  15.0          8         350.0         165    3693          11.5   49\n",
              "2  18.0          8         318.0         150    3436          11.0   49\n",
              "3  16.0          8         304.0         150    3433          12.0   49"
            ]
          },
          "metadata": {
            "tags": []
          },
          "execution_count": 9
        }
      ]
    },
    {
      "cell_type": "code",
      "metadata": {
        "id": "AZFyxu7BFLUj"
      },
      "source": [
        "y = df.mpg"
      ],
      "execution_count": 20,
      "outputs": []
    },
    {
      "cell_type": "code",
      "metadata": {
        "id": "piSZw4SLFY77"
      },
      "source": [
        "scaler = StandardScaler()\n",
        "df_scaled = scaler.fit_transform(df.drop('mpg', axis=1))"
      ],
      "execution_count": 11,
      "outputs": []
    },
    {
      "cell_type": "code",
      "metadata": {
        "id": "evwyXM6DFqOd"
      },
      "source": [
        "df_scaled = pd.DataFrame(data = df_scaled, columns=df.drop('mpg', axis=1).columns)"
      ],
      "execution_count": 17,
      "outputs": []
    },
    {
      "cell_type": "code",
      "metadata": {
        "colab": {
          "base_uri": "https://localhost:8080/",
          "height": 164
        },
        "id": "PP-N3TUBF5uI",
        "outputId": "b1a78879-530c-4663-b29e-f0ae2b7ec154"
      },
      "source": [
        "df_scaled.head(4)"
      ],
      "execution_count": 19,
      "outputs": [
        {
          "output_type": "execute_result",
          "data": {
            "text/html": [
              "<div>\n",
              "<style scoped>\n",
              "    .dataframe tbody tr th:only-of-type {\n",
              "        vertical-align: middle;\n",
              "    }\n",
              "\n",
              "    .dataframe tbody tr th {\n",
              "        vertical-align: top;\n",
              "    }\n",
              "\n",
              "    .dataframe thead th {\n",
              "        text-align: right;\n",
              "    }\n",
              "</style>\n",
              "<table border=\"1\" class=\"dataframe\">\n",
              "  <thead>\n",
              "    <tr style=\"text-align: right;\">\n",
              "      <th></th>\n",
              "      <th>cylinders</th>\n",
              "      <th>displacement</th>\n",
              "      <th>horsepower</th>\n",
              "      <th>weight</th>\n",
              "      <th>acceleration</th>\n",
              "      <th>age</th>\n",
              "    </tr>\n",
              "  </thead>\n",
              "  <tbody>\n",
              "    <tr>\n",
              "      <th>0</th>\n",
              "      <td>1.483947</td>\n",
              "      <td>1.077290</td>\n",
              "      <td>0.664133</td>\n",
              "      <td>0.620540</td>\n",
              "      <td>-1.285258</td>\n",
              "      <td>1.625315</td>\n",
              "    </tr>\n",
              "    <tr>\n",
              "      <th>1</th>\n",
              "      <td>1.483947</td>\n",
              "      <td>1.488732</td>\n",
              "      <td>1.574594</td>\n",
              "      <td>0.843334</td>\n",
              "      <td>-1.466724</td>\n",
              "      <td>1.625315</td>\n",
              "    </tr>\n",
              "    <tr>\n",
              "      <th>2</th>\n",
              "      <td>1.483947</td>\n",
              "      <td>1.182542</td>\n",
              "      <td>1.184397</td>\n",
              "      <td>0.540382</td>\n",
              "      <td>-1.648189</td>\n",
              "      <td>1.625315</td>\n",
              "    </tr>\n",
              "    <tr>\n",
              "      <th>3</th>\n",
              "      <td>1.483947</td>\n",
              "      <td>1.048584</td>\n",
              "      <td>1.184397</td>\n",
              "      <td>0.536845</td>\n",
              "      <td>-1.285258</td>\n",
              "      <td>1.625315</td>\n",
              "    </tr>\n",
              "  </tbody>\n",
              "</table>\n",
              "</div>"
            ],
            "text/plain": [
              "   cylinders  displacement  horsepower    weight  acceleration       age\n",
              "0   1.483947      1.077290    0.664133  0.620540     -1.285258  1.625315\n",
              "1   1.483947      1.488732    1.574594  0.843334     -1.466724  1.625315\n",
              "2   1.483947      1.182542    1.184397  0.540382     -1.648189  1.625315\n",
              "3   1.483947      1.048584    1.184397  0.536845     -1.285258  1.625315"
            ]
          },
          "metadata": {
            "tags": []
          },
          "execution_count": 19
        }
      ]
    },
    {
      "cell_type": "code",
      "metadata": {
        "id": "RpsRH6ZHF-Ba"
      },
      "source": [
        "x_train, x_test, y_train, y_test = train_test_split(df_scaled, y)"
      ],
      "execution_count": 21,
      "outputs": []
    },
    {
      "cell_type": "code",
      "metadata": {
        "colab": {
          "base_uri": "https://localhost:8080/"
        },
        "id": "8e6nfKGOGJGt",
        "outputId": "99d7582e-18e1-4459-fcfc-bf89d2645410"
      },
      "source": [
        "x_train.shape, x_test.shape, y_train.shape, y_test.shape"
      ],
      "execution_count": 22,
      "outputs": [
        {
          "output_type": "execute_result",
          "data": {
            "text/plain": [
              "((294, 6), (98, 6), (294,), (98,))"
            ]
          },
          "metadata": {
            "tags": []
          },
          "execution_count": 22
        }
      ]
    },
    {
      "cell_type": "code",
      "metadata": {
        "id": "2D2vxXoMGNFn"
      },
      "source": [
        "model = lars_reg(x_train, y_train)\n",
        "predict = model.predict(x_test)"
      ],
      "execution_count": 23,
      "outputs": []
    },
    {
      "cell_type": "code",
      "metadata": {
        "id": "zqNWLJRwGaHD"
      },
      "source": [
        "from sklearn.metrics import r2_score"
      ],
      "execution_count": 26,
      "outputs": []
    },
    {
      "cell_type": "code",
      "metadata": {
        "colab": {
          "base_uri": "https://localhost:8080/"
        },
        "id": "rqw2IeNVGczn",
        "outputId": "d3cfa81b-c40f-463c-db76-c43ab43ea002"
      },
      "source": [
        "r2_score(y_test, predict)"
      ],
      "execution_count": 27,
      "outputs": [
        {
          "output_type": "execute_result",
          "data": {
            "text/plain": [
              "0.8134558555288217"
            ]
          },
          "metadata": {
            "tags": []
          },
          "execution_count": 27
        }
      ]
    },
    {
      "cell_type": "code",
      "metadata": {
        "id": "5LJcwjtRGiio"
      },
      "source": [
        ""
      ],
      "execution_count": null,
      "outputs": []
    },
    {
      "cell_type": "markdown",
      "metadata": {
        "id": "emaX6nxtGvfy"
      },
      "source": [
        "## Hyper parameters"
      ]
    },
    {
      "cell_type": "code",
      "metadata": {
        "colab": {
          "base_uri": "https://localhost:8080/"
        },
        "id": "U3zcB9b-GxFA",
        "outputId": "4998e2dc-d05c-4f77-b897-34f4ccce9a3a"
      },
      "source": [
        "parms = [1, 2, 3, 4]\n",
        "for i in parms:\n",
        "  model = lars_reg(x_train, y_train, n_nonzero_coefs=i)\n",
        "  predict = model.predict(x_test)\n",
        "  print(r2_score(y_test, predict))\n",
        "  print()"
      ],
      "execution_count": 29,
      "outputs": [
        {
          "output_type": "stream",
          "text": [
            "0.483222146273256\n",
            "\n",
            "0.8160472402496752\n",
            "\n",
            "0.8212388064184348\n",
            "\n",
            "0.8134558555288217\n",
            "\n"
          ],
          "name": "stdout"
        }
      ]
    },
    {
      "cell_type": "code",
      "metadata": {
        "colab": {
          "base_uri": "https://localhost:8080/"
        },
        "id": "S3thCcJMHRWW",
        "outputId": "6da38742-90c9-4be2-9847-8808bb03cca1"
      },
      "source": [
        "model.active_"
      ],
      "execution_count": 30,
      "outputs": [
        {
          "output_type": "execute_result",
          "data": {
            "text/plain": [
              "[3, 5, 4, 1]"
            ]
          },
          "metadata": {
            "tags": []
          },
          "execution_count": 30
        }
      ]
    },
    {
      "cell_type": "code",
      "metadata": {
        "colab": {
          "base_uri": "https://localhost:8080/"
        },
        "id": "PPlK64WuHdou",
        "outputId": "60cba908-bba0-4f7f-92b0-f2c5efc572d0"
      },
      "source": [
        "model.coef_"
      ],
      "execution_count": 31,
      "outputs": [
        {
          "output_type": "execute_result",
          "data": {
            "text/plain": [
              "array([ 0.        ,  0.85942448,  0.        , -6.32407904,  0.30065632,\n",
              "       -2.67717028])"
            ]
          },
          "metadata": {
            "tags": []
          },
          "execution_count": 31
        }
      ]
    },
    {
      "cell_type": "code",
      "metadata": {
        "id": "S0aIH3sAHmHR"
      },
      "source": [
        ""
      ],
      "execution_count": null,
      "outputs": []
    }
  ]
}