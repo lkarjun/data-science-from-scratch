{
  "nbformat": 4,
  "nbformat_minor": 0,
  "metadata": {
    "colab": {
      "name": "adaboost_example.ipynb",
      "provenance": [],
      "authorship_tag": "ABX9TyNUaK/8HTwFJB6wEnMsXrSW",
      "include_colab_link": true
    },
    "kernelspec": {
      "name": "python3",
      "display_name": "Python 3"
    },
    "language_info": {
      "name": "python"
    }
  },
  "cells": [
    {
      "cell_type": "markdown",
      "metadata": {
        "id": "view-in-github",
        "colab_type": "text"
      },
      "source": [
        "<a href=\"https://colab.research.google.com/github/lkarjun/Data-Science-from-Scratch/blob/master/adaboost_example.ipynb\" target=\"_parent\"><img src=\"https://colab.research.google.com/assets/colab-badge.svg\" alt=\"Open In Colab\"/></a>"
      ]
    },
    {
      "cell_type": "code",
      "metadata": {
        "id": "vZfEETsQt7hn"
      },
      "source": [
        "import pandas as pd"
      ],
      "execution_count": 1,
      "outputs": []
    },
    {
      "cell_type": "code",
      "metadata": {
        "colab": {
          "base_uri": "https://localhost:8080/",
          "height": 214
        },
        "id": "66uI7DhbvdFZ",
        "outputId": "e8eaac88-fd01-4bd3-8010-24c64ec66bb0"
      },
      "source": [
        "df = pd.read_csv('concrete_data.csv')\n",
        "df.head()"
      ],
      "execution_count": 2,
      "outputs": [
        {
          "output_type": "execute_result",
          "data": {
            "text/html": [
              "<div>\n",
              "<style scoped>\n",
              "    .dataframe tbody tr th:only-of-type {\n",
              "        vertical-align: middle;\n",
              "    }\n",
              "\n",
              "    .dataframe tbody tr th {\n",
              "        vertical-align: top;\n",
              "    }\n",
              "\n",
              "    .dataframe thead th {\n",
              "        text-align: right;\n",
              "    }\n",
              "</style>\n",
              "<table border=\"1\" class=\"dataframe\">\n",
              "  <thead>\n",
              "    <tr style=\"text-align: right;\">\n",
              "      <th></th>\n",
              "      <th>cement</th>\n",
              "      <th>slag</th>\n",
              "      <th>flyash</th>\n",
              "      <th>water</th>\n",
              "      <th>superplasticizer</th>\n",
              "      <th>coarseaggregate</th>\n",
              "      <th>fineaggregate</th>\n",
              "      <th>age</th>\n",
              "      <th>csMPa</th>\n",
              "    </tr>\n",
              "  </thead>\n",
              "  <tbody>\n",
              "    <tr>\n",
              "      <th>0</th>\n",
              "      <td>540.0</td>\n",
              "      <td>0.0</td>\n",
              "      <td>0.0</td>\n",
              "      <td>162.0</td>\n",
              "      <td>2.5</td>\n",
              "      <td>1040.0</td>\n",
              "      <td>676.0</td>\n",
              "      <td>28</td>\n",
              "      <td>79.99</td>\n",
              "    </tr>\n",
              "    <tr>\n",
              "      <th>1</th>\n",
              "      <td>540.0</td>\n",
              "      <td>0.0</td>\n",
              "      <td>0.0</td>\n",
              "      <td>162.0</td>\n",
              "      <td>2.5</td>\n",
              "      <td>1055.0</td>\n",
              "      <td>676.0</td>\n",
              "      <td>28</td>\n",
              "      <td>61.89</td>\n",
              "    </tr>\n",
              "    <tr>\n",
              "      <th>2</th>\n",
              "      <td>332.5</td>\n",
              "      <td>142.5</td>\n",
              "      <td>0.0</td>\n",
              "      <td>228.0</td>\n",
              "      <td>0.0</td>\n",
              "      <td>932.0</td>\n",
              "      <td>594.0</td>\n",
              "      <td>270</td>\n",
              "      <td>40.27</td>\n",
              "    </tr>\n",
              "    <tr>\n",
              "      <th>3</th>\n",
              "      <td>332.5</td>\n",
              "      <td>142.5</td>\n",
              "      <td>0.0</td>\n",
              "      <td>228.0</td>\n",
              "      <td>0.0</td>\n",
              "      <td>932.0</td>\n",
              "      <td>594.0</td>\n",
              "      <td>365</td>\n",
              "      <td>41.05</td>\n",
              "    </tr>\n",
              "    <tr>\n",
              "      <th>4</th>\n",
              "      <td>198.6</td>\n",
              "      <td>132.4</td>\n",
              "      <td>0.0</td>\n",
              "      <td>192.0</td>\n",
              "      <td>0.0</td>\n",
              "      <td>978.4</td>\n",
              "      <td>825.5</td>\n",
              "      <td>360</td>\n",
              "      <td>44.30</td>\n",
              "    </tr>\n",
              "  </tbody>\n",
              "</table>\n",
              "</div>"
            ],
            "text/plain": [
              "   cement   slag  flyash  water  ...  coarseaggregate  fineaggregate  age  csMPa\n",
              "0   540.0    0.0     0.0  162.0  ...           1040.0          676.0   28  79.99\n",
              "1   540.0    0.0     0.0  162.0  ...           1055.0          676.0   28  61.89\n",
              "2   332.5  142.5     0.0  228.0  ...            932.0          594.0  270  40.27\n",
              "3   332.5  142.5     0.0  228.0  ...            932.0          594.0  365  41.05\n",
              "4   198.6  132.4     0.0  192.0  ...            978.4          825.5  360  44.30\n",
              "\n",
              "[5 rows x 9 columns]"
            ]
          },
          "metadata": {
            "tags": []
          },
          "execution_count": 2
        }
      ]
    },
    {
      "cell_type": "code",
      "metadata": {
        "id": "-fSFhf07viT0"
      },
      "source": [
        "x = df.drop('csMPa', axis=1)\n",
        "y = df.csMPa"
      ],
      "execution_count": 3,
      "outputs": []
    },
    {
      "cell_type": "code",
      "metadata": {
        "id": "0-WSwP4LvsYR"
      },
      "source": [
        "from sklearn.model_selection import train_test_split\n",
        "from sklearn.ensemble import AdaBoostRegressor\n",
        "from sklearn.tree import DecisionTreeRegressor"
      ],
      "execution_count": 7,
      "outputs": []
    },
    {
      "cell_type": "code",
      "metadata": {
        "id": "9KfP0q27v2Uw"
      },
      "source": [
        "x_train, x_test, y_train, y_test = train_test_split(x, y)"
      ],
      "execution_count": 12,
      "outputs": []
    },
    {
      "cell_type": "code",
      "metadata": {
        "colab": {
          "base_uri": "https://localhost:8080/"
        },
        "id": "qJvAoFIzv9Rf",
        "outputId": "0889aedf-6b96-4d5e-b260-c92dfd0595df"
      },
      "source": [
        "ada_reg = AdaBoostRegressor(\n",
        "      DecisionTreeRegressor(max_depth=4)\n",
        "      , n_estimators = 100, learning_rate = 1.0\n",
        ")\n",
        "\n",
        "ada_reg.fit(x_train, y_train)"
      ],
      "execution_count": 13,
      "outputs": [
        {
          "output_type": "execute_result",
          "data": {
            "text/plain": [
              "AdaBoostRegressor(base_estimator=DecisionTreeRegressor(ccp_alpha=0.0,\n",
              "                                                       criterion='mse',\n",
              "                                                       max_depth=4,\n",
              "                                                       max_features=None,\n",
              "                                                       max_leaf_nodes=None,\n",
              "                                                       min_impurity_decrease=0.0,\n",
              "                                                       min_impurity_split=None,\n",
              "                                                       min_samples_leaf=1,\n",
              "                                                       min_samples_split=2,\n",
              "                                                       min_weight_fraction_leaf=0.0,\n",
              "                                                       presort='deprecated',\n",
              "                                                       random_state=None,\n",
              "                                                       splitter='best'),\n",
              "                  learning_rate=1.0, loss='linear', n_estimators=100,\n",
              "                  random_state=None)"
            ]
          },
          "metadata": {
            "tags": []
          },
          "execution_count": 13
        }
      ]
    },
    {
      "cell_type": "code",
      "metadata": {
        "colab": {
          "base_uri": "https://localhost:8080/"
        },
        "id": "YX812pqZwceh",
        "outputId": "71c0ee3d-02c6-49bb-da0d-60ccf162a183"
      },
      "source": [
        "ada_reg.estimator_weights_"
      ],
      "execution_count": 14,
      "outputs": [
        {
          "output_type": "execute_result",
          "data": {
            "text/plain": [
              "array([1.58892484, 1.31286447, 1.16861344, 1.2481713 , 1.39030156,\n",
              "       1.31166009, 1.01202625, 0.90686357, 1.37936621, 1.16565904,\n",
              "       1.51621679, 0.98255066, 1.25720857, 0.94828641, 1.16655784,\n",
              "       0.67517765, 1.38939432, 1.25175384, 0.58680891, 1.38578932,\n",
              "       0.5871886 , 0.97390816, 0.70146814, 0.89331669, 1.26917251,\n",
              "       0.74894779, 0.95196355, 0.90744401, 0.56696507, 0.67779634,\n",
              "       0.993096  , 0.94176191, 0.92846217, 0.77651358, 1.19043516,\n",
              "       0.99279178, 0.72717605, 0.56949939, 0.85034739, 0.75791963,\n",
              "       0.93510083, 0.64327986, 0.79491713, 0.65320159, 0.53974792,\n",
              "       0.48735261, 0.80451846, 0.81500292, 0.60956762, 0.49063923,\n",
              "       1.03861772, 0.68940127, 1.00584429, 0.82476666, 0.93240373,\n",
              "       0.66508239, 0.75362369, 0.69616791, 0.76846692, 0.51840658,\n",
              "       1.10253965, 0.7016284 , 0.96114463, 0.74995667, 0.59117185,\n",
              "       0.8907228 , 0.97565279, 1.07158191, 0.66762417, 0.71514522,\n",
              "       0.70029288, 0.80687372, 0.60701784, 0.83314143, 0.68028144,\n",
              "       0.61392346, 1.0769829 , 0.7691056 , 0.73172542, 0.61997949,\n",
              "       1.27179252, 0.55871341, 0.8147167 , 0.78676879, 1.01501294,\n",
              "       0.88755217, 0.80620319, 0.68932624, 1.13731634, 1.1315957 ,\n",
              "       0.84883606, 0.85411132, 0.67444651, 0.70615161, 0.63759164,\n",
              "       0.56893219, 0.44819241, 0.8552241 , 0.70152729, 1.2490572 ])"
            ]
          },
          "metadata": {
            "tags": []
          },
          "execution_count": 14
        }
      ]
    },
    {
      "cell_type": "code",
      "metadata": {
        "colab": {
          "base_uri": "https://localhost:8080/"
        },
        "id": "9rClxlRjw9_V",
        "outputId": "acb17307-6fee-4659-d65d-75c1641f812b"
      },
      "source": [
        "y_pred = ada_reg.predict(x_test)\n",
        "from sklearn.metrics import r2_score\n",
        "\n",
        "r2_score(y_test, y_pred)"
      ],
      "execution_count": 15,
      "outputs": [
        {
          "output_type": "execute_result",
          "data": {
            "text/plain": [
              "0.8308735678714093"
            ]
          },
          "metadata": {
            "tags": []
          },
          "execution_count": 15
        }
      ]
    },
    {
      "cell_type": "code",
      "metadata": {
        "colab": {
          "base_uri": "https://localhost:8080/"
        },
        "id": "3oUBpf1vxNX9",
        "outputId": "fd96fc39-c22b-4b3a-d923-2c628fe06eb7"
      },
      "source": [
        "ada_reg = AdaBoostRegressor(\n",
        "      DecisionTreeRegressor(max_depth=2)\n",
        "      , n_estimators = 200, learning_rate = 0.5\n",
        ")\n",
        "\n",
        "ada_reg.fit(x_train, y_train)"
      ],
      "execution_count": 16,
      "outputs": [
        {
          "output_type": "execute_result",
          "data": {
            "text/plain": [
              "AdaBoostRegressor(base_estimator=DecisionTreeRegressor(ccp_alpha=0.0,\n",
              "                                                       criterion='mse',\n",
              "                                                       max_depth=2,\n",
              "                                                       max_features=None,\n",
              "                                                       max_leaf_nodes=None,\n",
              "                                                       min_impurity_decrease=0.0,\n",
              "                                                       min_impurity_split=None,\n",
              "                                                       min_samples_leaf=1,\n",
              "                                                       min_samples_split=2,\n",
              "                                                       min_weight_fraction_leaf=0.0,\n",
              "                                                       presort='deprecated',\n",
              "                                                       random_state=None,\n",
              "                                                       splitter='best'),\n",
              "                  learning_rate=0.5, loss='linear', n_estimators=200,\n",
              "                  random_state=None)"
            ]
          },
          "metadata": {
            "tags": []
          },
          "execution_count": 16
        }
      ]
    },
    {
      "cell_type": "code",
      "metadata": {
        "colab": {
          "base_uri": "https://localhost:8080/"
        },
        "id": "j05PItU1xlYP",
        "outputId": "dd78922c-7e5d-430a-abb9-a9579c08d043"
      },
      "source": [
        "ada_reg.estimator_weights_"
      ],
      "execution_count": 18,
      "outputs": [
        {
          "output_type": "execute_result",
          "data": {
            "text/plain": [
              "array([0.66024395, 0.61815787, 0.55940476, 0.32168981, 0.4951048 ,\n",
              "       0.50901845, 0.58593175, 0.52007085, 0.47321847, 0.51497271,\n",
              "       0.44941343, 0.27822627, 0.41508161, 0.44645953, 0.17784526,\n",
              "       0.47364812, 0.39372336, 0.3098346 , 0.5132457 , 0.36514956,\n",
              "       0.27588209, 0.44908891, 0.30540197, 0.38007096, 0.44541409,\n",
              "       0.46003572, 0.35630916, 0.27339737, 0.36328286, 0.24350628,\n",
              "       0.28764377, 0.46592599, 0.42338903, 0.48893286, 0.22651839,\n",
              "       0.39013336, 0.28812878, 0.40373077, 0.45437087, 0.41163735,\n",
              "       0.4824024 , 0.24705256, 0.38478866, 0.33548742, 0.42944727,\n",
              "       0.42342544, 0.46078871, 0.30292503, 0.18609506, 0.31725312,\n",
              "       0.48399481, 0.34209418, 0.27008683, 0.39043366, 0.20453447,\n",
              "       0.4024217 , 0.3652871 , 0.19461597, 0.45641093, 0.20345857,\n",
              "       0.35179049, 0.31485797, 0.19395672, 0.16400631, 0.36577628,\n",
              "       0.34743034, 0.12344033, 0.18860928, 0.44868803, 0.48656355,\n",
              "       0.16524142, 0.34157686, 0.19802524, 0.30300968, 0.19090861,\n",
              "       0.40824117, 0.32084646, 0.18511114, 0.38669552, 0.20245573,\n",
              "       0.17543109, 0.51969963, 0.40085655, 0.32306907, 0.20475835,\n",
              "       0.35310527, 0.44035146, 0.41222981, 0.23816593, 0.32141657,\n",
              "       0.27174532, 0.52216039, 0.24292669, 0.23951264, 0.39313569,\n",
              "       0.24770359, 0.18973382, 0.41631988, 0.39507185, 0.46061705,\n",
              "       0.3189292 , 0.19851921, 0.37601721, 0.28134226, 0.31519709,\n",
              "       0.34758235, 0.13856976, 0.17725331, 0.15436609, 0.26757434,\n",
              "       0.36893549, 0.1934128 , 0.11108558, 0.27197627, 0.29728642,\n",
              "       0.20322577, 0.57282746, 0.16847236, 0.37055622, 0.08461482,\n",
              "       0.12343743, 0.28547331, 0.11523285, 0.09473245, 0.425916  ,\n",
              "       0.10049492, 0.0562664 , 0.25524396, 0.20947698, 0.41577938,\n",
              "       0.2573297 , 0.32248128, 0.10216327, 0.34735179, 0.03521321,\n",
              "       0.12552053, 0.07512939, 0.19402931, 0.41731931, 0.11362706,\n",
              "       0.1166412 , 0.19998184, 0.22374464, 0.43343219, 0.04037522,\n",
              "       0.08680864, 0.28711559, 0.37482356, 0.11068894, 0.26718556,\n",
              "       0.28821161, 0.25284844, 0.34502618, 0.1647317 , 0.12699707,\n",
              "       0.11520652, 0.12108421, 0.42832921, 0.12945068, 0.26614243,\n",
              "       0.40443605, 0.44941064, 0.28352548, 0.33556597, 0.15501345,\n",
              "       0.1854181 , 0.28000626, 0.40858698, 0.11851148, 0.10730352,\n",
              "       0.22950679, 0.29915645, 0.28876326, 0.16440429, 0.25646523,\n",
              "       0.30277738, 0.2876557 , 0.49512651, 0.46676367, 0.13902989,\n",
              "       0.26527956, 0.37590393, 0.3646259 , 0.10727757, 0.23219853,\n",
              "       0.25655234, 0.38418578, 0.27854209, 0.04246629, 0.15171297,\n",
              "       0.14354028, 0.10371414, 0.52384426, 0.25931831, 0.2424004 ,\n",
              "       0.14922475, 0.28731449, 0.27806335, 0.28084444, 0.10068108])"
            ]
          },
          "metadata": {
            "tags": []
          },
          "execution_count": 18
        }
      ]
    },
    {
      "cell_type": "code",
      "metadata": {
        "colab": {
          "base_uri": "https://localhost:8080/"
        },
        "id": "ImprLoUJxWNr",
        "outputId": "57ca1494-a670-45b5-ca4e-b6100278e18b"
      },
      "source": [
        "y_pred = ada_reg.predict(x_test)\n",
        "from sklearn.metrics import r2_score\n",
        "\n",
        "r2_score(y_test, y_pred)"
      ],
      "execution_count": 17,
      "outputs": [
        {
          "output_type": "execute_result",
          "data": {
            "text/plain": [
              "0.7330605134456841"
            ]
          },
          "metadata": {
            "tags": []
          },
          "execution_count": 17
        }
      ]
    },
    {
      "cell_type": "code",
      "metadata": {
        "id": "srhXiVAdxYc_"
      },
      "source": [
        "n_estimators = [20, 50, 100, 150, 200, 250, 300, 350, 400, 450, 500]\n",
        "r2 = []\n",
        "\n",
        "for i in n_estimators:\n",
        "  ada_reg = AdaBoostRegressor(\n",
        "      DecisionTreeRegressor(max_depth=2)\n",
        "      , n_estimators = i, learning_rate = 0.3)\n",
        "  \n",
        "  ada_reg.fit(x_train, y_train)\n",
        "  y_pred = ada_reg.predict(x_test)\n",
        "  r2.append(r2_score(y_test, y_pred))"
      ],
      "execution_count": 40,
      "outputs": []
    },
    {
      "cell_type": "code",
      "metadata": {
        "colab": {
          "base_uri": "https://localhost:8080/",
          "height": 283
        },
        "id": "d4OiCIqKyI3e",
        "outputId": "20e2d8f8-7a7f-45c8-e94f-a86f7c4bdf5c"
      },
      "source": [
        "import matplotlib.pyplot as plt\n",
        "\n",
        "plt.plot(n_estimators, r2)"
      ],
      "execution_count": 41,
      "outputs": [
        {
          "output_type": "execute_result",
          "data": {
            "text/plain": [
              "[<matplotlib.lines.Line2D at 0x7f811e622d10>]"
            ]
          },
          "metadata": {
            "tags": []
          },
          "execution_count": 41
        },
        {
          "output_type": "display_data",
          "data": {
            "image/png": "[encoded data removed]",
            "text/plain": [
              "<Figure size 432x288 with 1 Axes>"
            ]
          },
          "metadata": {
            "tags": [],
            "needs_background": "light"
          }
        }
      ]
    },
    {
      "cell_type": "code",
      "metadata": {
        "colab": {
          "base_uri": "https://localhost:8080/"
        },
        "id": "KDnDwnz4yRTW",
        "outputId": "aa1897de-111d-4ae2-e016-d6b8b16a590a"
      },
      "source": [
        "r2[-1]"
      ],
      "execution_count": 39,
      "outputs": [
        {
          "output_type": "execute_result",
          "data": {
            "text/plain": [
              "0.733232814247653"
            ]
          },
          "metadata": {
            "tags": []
          },
          "execution_count": 39
        }
      ]
    },
    {
      "cell_type": "code",
      "metadata": {
        "id": "9mpOanZRyj2o"
      },
      "source": [
        ""
      ],
      "execution_count": null,
      "outputs": []
    }
  ]
}